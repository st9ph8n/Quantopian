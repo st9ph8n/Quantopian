{
  "cells": [
    {
      "cell_type": "markdown",
      "metadata": {
        "id": "view-in-github",
        "colab_type": "text"
      },
      "source": [
        "<a href=\"https://colab.research.google.com/github/st9ph8n/Quantopian/blob/main/lecture10.ipynb\" target=\"_parent\"><img src=\"https://colab.research.google.com/assets/colab-badge.svg\" alt=\"Open In Colab\"/></a>"
      ]
    },
    {
      "cell_type": "markdown",
      "metadata": {
        "id": "z6ABxIi5rtD1"
      },
      "source": [
        "# Exercises: Instability of Parameter Estimates\n",
        "\n",
        "## Lecture Link\n",
        "\n",
        "This exercise notebook refers to this lecture. Please use the lecture for explanations and sample code.\n",
        "\n",
        "https://www.quantopian.com/lectures#Instability-of-Estimates\n",
        "\n",
        "Part of the Quantopian Lecture Series:\n",
        "\n",
        "* [www.quantopian.com/lectures](https://www.quantopian.com/lectures)\n",
        "* [github.com/quantopian/research_public](https://github.com/quantopian/research_public)"
      ]
    },
    {
      "cell_type": "code",
      "execution_count": null,
      "metadata": {
        "id": "zBPVFH1nrtD2"
      },
      "outputs": [],
      "source": [
        "import numpy as np\n",
        "import matplotlib.pyplot as plt\n",
        "import pandas as pd\n",
        "import yfinance as yf\n",
        "import statsmodels.api as sm\n",
        "from statsmodels.stats.stattools import jarque_bera\n",
        "\n",
        "# Set a seed so we can play with the data without generating new random numbers every time\n"
      ]
    },
    {
      "cell_type": "markdown",
      "metadata": {
        "id": "zn2KnC-srtD3"
      },
      "source": [
        "# Exercise 1: Sample Size vs. Standard Deviation\n",
        "\n",
        "Using the below normal distribution with mean 100 and standard deviation 50, find the means and standard deviations of  samples of size 5, 25, 100, and 500."
      ]
    },
    {
      "cell_type": "code",
      "execution_count": null,
      "metadata": {
        "scrolled": true,
        "colab": {
          "base_uri": "https://localhost:8080/"
        },
        "id": "6EgVVj15rtD3",
        "outputId": "547d91db-8534-4b18-e744-4f602aacaea2"
      },
      "outputs": [
        {
          "output_type": "stream",
          "name": "stdout",
          "text": [
            "Mean:1 121.981640  Std Dev:1 9.880186194391456\n",
            "Mean:2 97.164202   Std Dev:2 20.01663515801631\n",
            "Mean:3 97.990476   Std Dev:3 24.61173665260364\n",
            "Mean:4 100.752116  Std Dev:4 24.51875879468\n"
          ]
        }
      ],
      "source": [
        "POPULATION_MU = 100\n",
        "POPULATION_SIGMA = 25\n",
        "sample_sizes = [5, 25, 100, 500]\n",
        "\n",
        "for i in range(len(sample_sizes)):\n",
        "    sample = np.random.normal(POPULATION_MU, POPULATION_SIGMA, sample_sizes[i])\n",
        "    row = 'Mean:',(i+1), np.mean(sample), 'Std Dev:',(i+1) ,np.std(sample)\n",
        "    print(\"{}{} {:<10f}  {}{} {}\".format(*row))\n",
        "\n"
      ]
    },
    {
      "cell_type": "markdown",
      "metadata": {
        "id": "h6fpj0PZrtD3"
      },
      "source": [
        "# Exercise 2: Instability of Predictions on Mean Alone\n",
        "\n",
        "## a. Finding Means\n",
        "\n",
        "Find the means of the following three data sets $X$, $Y$, and $Z$."
      ]
    },
    {
      "cell_type": "code",
      "execution_count": null,
      "metadata": {
        "scrolled": true,
        "colab": {
          "base_uri": "https://localhost:8080/"
        },
        "id": "-aGWs67WrtD3",
        "outputId": "39a81ea5-e0c6-4823-f079-486eeab23119"
      },
      "outputs": [
        {
          "output_type": "stream",
          "name": "stdout",
          "text": [
            "25.0 24.686274509803923 25.607843137254903\n",
            "Mean: 25.00\n",
            "Mean: 24.69\n",
            "Mean: 25.61\n"
          ]
        }
      ],
      "source": [
        "X = [ 31.,   6.,  21.,  32.,  41.,   4.,  48.,  38.,  43.,  36.,  50., 20.,  46.,  33.,   8.,  27.,  17.,  44.,  16.,  39.,   3.,  37.,\n",
        "        35.,  13.,  49.,   2.,  18.,  42.,  22.,  25.,  15.,  24.,  11., 19.,   5.,  40.,  12.,  10.,   1.,  45.,  26.,  29.,   7.,  30.,\n",
        "        14.,  23.,  28.,   0.,  34.,   9.,  47.]\n",
        "Y = [ 15.,  41.,  33.,  29.,   3.,  28.,  28.,   8.,  15.,  22.,  39., 38.,  22.,  10.,  39.,  40.,  24.,  15.,  21.,  25.,  17.,  33.,\n",
        "        40.,  32.,  42.,   5.,  39.,   8.,  15.,  25.,  37.,  33.,  14., 25.,   1.,  31.,  45.,   5.,   6.,  19.,  13.,  39.,  18.,  49.,\n",
        "        13.,  38.,   8.,  25.,  32.,  40.,  17.]\n",
        "Z = [ 38.,  23.,  16.,  35.,  48.,  18.,  48.,  38.,  24.,  27.,  24., 35.,  37.,  28.,  11.,  12.,  31.,  -1.,   9.,  19.,  20.,   0.,\n",
        "        23.,  33.,  34.,  24.,  14.,  28.,  12.,  25.,  53.,  19.,  42., 21.,  15.,  36.,  47.,  20.,  26.,  41.,  33.,  50.,  26.,  22.,\n",
        "        -1.,  35.,  10.,  25.,  23.,  24.,   6.]\n",
        "\n",
        "#Your code goes here\n",
        "\n",
        "print (np.mean(X), np.mean(Y), np.mean(Z))\n",
        "\n",
        "print( \"Mean: %.2f\" % np.mean(X))\n",
        "print( \"Mean: %.2f\" % np.mean(Y))\n",
        "print( \"Mean: %.2f\" % np.mean(Z))"
      ]
    },
    {
      "cell_type": "markdown",
      "metadata": {
        "id": "u7fDvW9irtD3"
      },
      "source": [
        "## b. Checking for Normality\n",
        "\n",
        "Use the `jarque_bera` function to conduct a Jarque-Bera test on $X$, $Y$, and $Z$ to determine whether their distributions are normal."
      ]
    },
    {
      "cell_type": "code",
      "execution_count": null,
      "metadata": {
        "scrolled": true,
        "colab": {
          "base_uri": "https://localhost:8080/"
        },
        "id": "C-D9TLvFrtD3",
        "outputId": "6a38a0db-e983-4f61-b6b2-7f3e2f3ccb28"
      },
      "outputs": [
        {
          "output_type": "stream",
          "name": "stdout",
          "text": [
            "X is normal\n",
            "Y is normal\n",
            "Z is normal\n"
          ]
        }
      ],
      "source": [
        "#Your code goes here\n",
        "if jarque_bera(X)[1] > 0.05:\n",
        "    print(\"X is normal\")\n",
        "else:\n",
        "    print(\"X is not normal\")\n",
        "if jarque_bera(Y)[1] > 0.05:\n",
        "    print(\"Y is normal\")\n",
        "else:\n",
        "    print(\"Y is not normal\")\n",
        "if jarque_bera(Z)[1] > 0.05:\n",
        "    print(\"Z is normal\")\n",
        "else:\n",
        "    print(\"Z is not normal\")\n",
        "\n"
      ]
    },
    {
      "cell_type": "markdown",
      "metadata": {
        "id": "qvPTzqg5rtD4"
      },
      "source": [
        "## c. Instability of Estimates\n",
        "\n",
        "Create a histogram of the sample distributions of $X$, $Y$, and $Z$ along with the best estimate/mean based on the sample."
      ]
    },
    {
      "cell_type": "code",
      "execution_count": null,
      "metadata": {
        "scrolled": false,
        "colab": {
          "base_uri": "https://localhost:8080/",
          "height": 430
        },
        "id": "CJLg9tmirtD4",
        "outputId": "e01168f8-4ba9-49d1-9cf1-c6eb930c3310"
      },
      "outputs": [
        {
          "output_type": "display_data",
          "data": {
            "text/plain": [
              "<Figure size 640x480 with 1 Axes>"
            ],
            "image/png": "[encoded data removed]"
          },
          "metadata": {}
        }
      ],
      "source": [
        "#Your code goes here\n",
        "plt.hist([X,Y,Z], bins=10, label=['X', 'Y', 'Z'])\n",
        "plt.legend(loc='upper right')\n",
        "plt.axvline(np.mean(X), color='r')\n",
        "plt.axvline(np.mean(Y), color='b')\n",
        "plt.axvline(np.mean(Z), color='g')\n",
        "plt.show()\n"
      ]
    },
    {
      "cell_type": "markdown",
      "metadata": {
        "id": "4vOBnJX1rtD4"
      },
      "source": [
        "# Exercise 3: Sharpe Ratio Window Adjustment\n",
        "\n",
        "## a. Effect on Variability\n",
        "\n",
        "Just as in the lecture, find the mean and standard deviation of the running sharpe ratio for THO, this time testing for multiple window lengths: 300, 150, and 50. Restrict your mean and standard deviation calculation to pricing data up to 200 days away from the end."
      ]
    },
    {
      "cell_type": "code",
      "execution_count": null,
      "metadata": {
        "colab": {
          "base_uri": "https://localhost:8080/"
        },
        "id": "zzqYcAkartD4",
        "outputId": "6598cbe2-f387-4f89-f1ba-08b0d5b979fc"
      },
      "outputs": [
        {
          "output_type": "stream",
          "name": "stderr",
          "text": [
            "[*********************100%***********************]  1 of 1 completed\n",
            "[*********************100%***********************]  1 of 1 completed\n",
            "/usr/local/lib/python3.10/dist-packages/numpy/core/fromnumeric.py:3643: FutureWarning: The behavior of DataFrame.std with axis=None is deprecated, in a future version this will reduce over both axes and return a scalar. To retain the old behavior, pass axis=0 (or do not pass axis)\n",
            "  return std(axis=axis, dtype=dtype, out=out, ddof=ddof, **kwargs)\n"
          ]
        },
        {
          "output_type": "stream",
          "name": "stdout",
          "text": [
            "Mean:50 -4.953179   Std Dev:50 3.762121   \n",
            "Mean:150 -4.912042   Std Dev:150 2.720270   \n",
            "Mean:300 -5.015893   Std Dev:300 2.508954   \n"
          ]
        }
      ],
      "source": [
        "def sharpe_ratio(asset, riskfree):\n",
        "    return np.mean(asset - riskfree)/np.std(asset - riskfree)\n",
        "\n",
        "start = '2010-01-01'\n",
        "end = '2015-01-01'\n",
        "treasury = yf.download('BIL', start=start, end=end).pct_change()[1:]\n",
        "pricing = yf.download('THO', start=start, end=end)\n",
        "returns = pricing.pct_change()[1:]\n",
        "\n",
        "\n",
        "\n",
        "for window in [50,150,300]:\n",
        "  running_sharpe = [sharpe_ratio(returns[i-window+10:i], treasury[i-window+10:i]) for i in range(window-10, len(returns))]\n",
        "  mean_rs = np.mean(running_sharpe[:-200])\n",
        "  std_rs = np.std(running_sharpe[:-200])\n",
        "\n",
        "  row = 'Mean:',(window), mean_rs, 'Std Dev:',(window), std_rs\n",
        "  print(\"{}{} {:<10f}  {}{} {:<11f}\".format(*row))\n"
      ]
    },
    {
      "cell_type": "markdown",
      "metadata": {
        "id": "JtlR_MvdrtD4"
      },
      "source": [
        "## b. Out-of-Sample Instability\n",
        "\n",
        "Plot the running sharpe ratio of all three window lengths, as well as their in-sample mean and standard deviation bars."
      ]
    },
    {
      "cell_type": "code",
      "execution_count": null,
      "metadata": {
        "scrolled": false,
        "id": "PsUvRXburtD4"
      },
      "outputs": [],
      "source": [
        "#Your code goes here\n",
        "\n",
        "plt.plot(running_sharpe)\n",
        "plt.axhline(np.mean(running_sharpe[:-200]), color='r')\n",
        "plt.axhline(np.std(running_sharpe[:-200]), color='b')"
      ]
    },
    {
      "cell_type": "markdown",
      "metadata": {
        "id": "Zk1nZS2ertD4"
      },
      "source": [
        "# Exercise 4: Weather\n",
        "\n",
        "## a. Temperature in Boston\n",
        "\n",
        "Find the mean and standard deviation of Boston weekly average temperature data for the year of 2015 stored in `b15_df`."
      ]
    },
    {
      "cell_type": "code",
      "execution_count": null,
      "metadata": {
        "scrolled": true,
        "id": "8I_ux4ATrtD4"
      },
      "outputs": [],
      "source": [
        "b15_df = pd.DataFrame([ 29.,  22.,  19.,  17.,  19.,  19.,  15.,  16.,  18.,  25.,  21.,\n",
        "        25.,  29.,  27.,  36.,  38.,  40.,  44.,  49.,  50.,  58.,  61.,\n",
        "        67.,  69.,  74.,  72.,  76.,  81.,  81.,  80.,  83.,  82.,  80.,\n",
        "        79.,  79.,  80.,  74.,  72.,  68.,  68.,  65.,  61.,  57.,  50.,\n",
        "        46.,  42.,  41.,  35.,  30.,  27.,  28.,  28.],\n",
        "        columns = ['Weekly Avg Temp'],\n",
        "        index = pd.date_range('1/1/2012', periods=52, freq='W')          )\n",
        "\n",
        "#Your code goes here\n"
      ]
    },
    {
      "cell_type": "markdown",
      "metadata": {
        "id": "jiP8R0jtrtD4"
      },
      "source": [
        "## b. Temperature in Palo Alto\n",
        "\n",
        "Find the mean and standard deviation of Palo Alto weekly average temperature data for the year of 2015 stored in `p15_df`."
      ]
    },
    {
      "cell_type": "code",
      "execution_count": null,
      "metadata": {
        "scrolled": true,
        "id": "2XJ2CzQJrtD4"
      },
      "outputs": [],
      "source": [
        "p15_df = pd.DataFrame([ 49.,  53.,  51.,  47.,  50.,  46.,  49.,  51.,  49.,  45.,  52.,\n",
        "        54.,  54.,  55.,  55.,  57.,  56.,  56.,  57.,  63.,  63.,  65.,\n",
        "        65.,  69.,  67.,  70.,  67.,  67.,  68.,  68.,  70.,  72.,  72.,\n",
        "        70.,  72.,  70.,  66.,  66.,  68.,  68.,  65.,  66.,  62.,  61.,\n",
        "        63.,  57.,  55.,  55.,  55.,  55.,  55.,  48.],\n",
        "        columns = ['Weekly Avg Temp'],\n",
        "        index = pd.date_range('1/1/2012', periods=52, freq='W'))\n",
        "\n",
        "#Your code goes here\n"
      ]
    },
    {
      "cell_type": "markdown",
      "metadata": {
        "id": "-8jxD5NhrtD4"
      },
      "source": [
        "## c. Predicting 2016 Temperatures\n",
        "\n",
        "Use the means you found in parts a and b to attempt to predict  2016 temperature data for both cities. Do this by creating two histograms for the 2016 temperature data in `b16_df` and `p16_df` with a vertical line where the 2015 means were to represent your prediction."
      ]
    },
    {
      "cell_type": "code",
      "execution_count": null,
      "metadata": {
        "id": "e2reLhPFrtD4"
      },
      "outputs": [],
      "source": [
        "b16_df = pd.DataFrame([ 26.,  22.,  20.,  19.,  18.,  19.,  17.,  17.,  19.,  20.,  23., 22.,  28.,  28.,  35.,  38.,  42.,  47.,  49.,  56.,  59.,  61.,\n",
        "        61.,  70.,  73.,  73.,  73.,  77.,  78.,  82.,  80.,  80.,  81., 78.,  82.,  78.,  76.,  71.,  69.,  66.,  60.,  63.,  56.,  50.,\n",
        "        44.,  43.,  34.,  33.,  31.,  28.,  27.,  20.],\n",
        "        columns = ['Weekly Avg Temp'],\n",
        "        index = pd.date_range('1/1/2012', periods=52, freq='W'))\n",
        "\n",
        "p16_df = pd.DataFrame([ 50.,  50.,  51.,  48.,  48.,  49.,  50.,  45.,  52.,  50.,  51., 52.,  50.,  56.,  58.,  55.,  61.,  56.,  61.,  62.,  62.,  64.,\n",
        "        64.,  69.,  71.,  66.,  69.,  70.,  68.,  71.,  70.,  69.,  72., 71.,  66.,  69.,  70.,  70.,  66.,  67.,  64.,  64.,  65.,  61.,\n",
        "        61.,  59.,  56.,  53.,  55.,  52.,  52.,  51.],\n",
        "        columns = ['Weekly Avg Temp'],\n",
        "        index = pd.date_range('1/1/2012', periods=52, freq='W'))\n",
        "\n",
        "#Your code goes here\n"
      ]
    },
    {
      "cell_type": "markdown",
      "metadata": {
        "id": "8lXynUEOrtD4"
      },
      "source": [
        "---\n",
        "\n",
        "Congratulations on completing the instability of parameter estimates exercises!\n",
        "\n",
        "As you learn more about writing trading models and the Quantopian platform, enter a daily [Quantopian Contest](https://www.quantopian.com/contest). Your strategy will be evaluated for a cash prize every day.\n",
        "\n",
        "Start by going through the [Writing a Contest Algorithm](https://www.quantopian.com/tutorials/contest) tutorial."
      ]
    },
    {
      "cell_type": "markdown",
      "metadata": {
        "id": "wh1vNJclrtD5"
      },
      "source": [
        "*This presentation is for informational purposes only and does not constitute an offer to sell, a solic\n",
        "itation to buy, or a recommendation for any security; nor does it constitute an offer to provide investment advisory or other services by Quantopian, Inc. (\"Quantopian\"). Nothing contained herein constitutes investment advice or offers any opinion with respect to the suitability of any security, and any views expressed herein should not be taken as advice to buy, sell, or hold any security or as an endorsement of any security or company.  In preparing the information contained herein, Quantopian, Inc. has not taken into account the investment needs, objectives, and financial circumstances of any particular investor. Any views expressed and data illustrated herein were prepared based upon information, believed to be reliable, available to Quantopian, Inc. at the time of publication. Quantopian makes no guarantees as to their accuracy or completeness. All information is subject to change and may quickly become unreliable for various reasons, including changes in market conditions or economic circumstances.*"
      ]
    }
  ],
  "metadata": {
    "kernelspec": {
      "display_name": "Python 2",
      "language": "python",
      "name": "python2"
    },
    "language_info": {
      "codemirror_mode": {
        "name": "ipython",
        "version": 2
      },
      "file_extension": ".py",
      "mimetype": "text/x-python",
      "name": "python",
      "nbconvert_exporter": "python",
      "pygments_lexer": "ipython2",
      "version": "2.7.10"
    },
    "colab": {
      "provenance": [],
      "include_colab_link": true
    }
  },
  "nbformat": 4,
  "nbformat_minor": 0
}